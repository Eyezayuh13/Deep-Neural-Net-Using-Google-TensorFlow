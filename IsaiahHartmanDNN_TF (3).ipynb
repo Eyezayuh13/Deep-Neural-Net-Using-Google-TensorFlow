{
 "cells": [
  {
   "cell_type": "code",
   "execution_count": 1,
   "metadata": {
    "collapsed": true
   },
   "outputs": [],
   "source": [
    "import numpy as np\n",
    "import tensorflow as tf\n",
    "import os"
   ]
  },
  {
   "cell_type": "markdown",
   "metadata": {},
   "source": [
    "## Gather and Inspect Data"
   ]
  },
  {
   "cell_type": "code",
   "execution_count": 2,
   "metadata": {
    "collapsed": false
   },
   "outputs": [
    {
     "name": "stdout",
     "output_type": "stream",
     "text": [
      "WARNING:tensorflow:From <ipython-input-2-8b78796a9087>:2: read_data_sets (from tensorflow.contrib.learn.python.learn.datasets.mnist) is deprecated and will be removed in a future version.\n",
      "Instructions for updating:\n",
      "Please use alternatives such as official/mnist/dataset.py from tensorflow/models.\n",
      "WARNING:tensorflow:From /opt/conda/lib/python3.6/site-packages/tensorflow/contrib/learn/python/learn/datasets/mnist.py:260: maybe_download (from tensorflow.contrib.learn.python.learn.datasets.base) is deprecated and will be removed in a future version.\n",
      "Instructions for updating:\n",
      "Please write your own downloading logic.\n",
      "WARNING:tensorflow:From /opt/conda/lib/python3.6/site-packages/tensorflow/contrib/learn/python/learn/datasets/mnist.py:262: extract_images (from tensorflow.contrib.learn.python.learn.datasets.mnist) is deprecated and will be removed in a future version.\n",
      "Instructions for updating:\n",
      "Please use tf.data to implement this functionality.\n",
      "Extracting /notebooks/data/MNIST_data/train-images-idx3-ubyte.gz\n",
      "WARNING:tensorflow:From /opt/conda/lib/python3.6/site-packages/tensorflow/contrib/learn/python/learn/datasets/mnist.py:267: extract_labels (from tensorflow.contrib.learn.python.learn.datasets.mnist) is deprecated and will be removed in a future version.\n",
      "Instructions for updating:\n",
      "Please use tf.data to implement this functionality.\n",
      "Extracting /notebooks/data/MNIST_data/train-labels-idx1-ubyte.gz\n",
      "WARNING:tensorflow:From /opt/conda/lib/python3.6/site-packages/tensorflow/contrib/learn/python/learn/datasets/mnist.py:110: dense_to_one_hot (from tensorflow.contrib.learn.python.learn.datasets.mnist) is deprecated and will be removed in a future version.\n",
      "Instructions for updating:\n",
      "Please use tf.one_hot on tensors.\n",
      "Extracting /notebooks/data/MNIST_data/t10k-images-idx3-ubyte.gz\n",
      "Extracting /notebooks/data/MNIST_data/t10k-labels-idx1-ubyte.gz\n",
      "WARNING:tensorflow:From /opt/conda/lib/python3.6/site-packages/tensorflow/contrib/learn/python/learn/datasets/mnist.py:290: DataSet.__init__ (from tensorflow.contrib.learn.python.learn.datasets.mnist) is deprecated and will be removed in a future version.\n",
      "Instructions for updating:\n",
      "Please use alternatives such as official/mnist/dataset.py from tensorflow/models.\n"
     ]
    }
   ],
   "source": [
    "from tensorflow.examples.tutorials.mnist import input_data\n",
    "mnist = input_data.read_data_sets(\"/notebooks/data/MNIST_data/\", one_hot=True)"
   ]
  },
  {
   "cell_type": "code",
   "execution_count": 3,
   "metadata": {
    "collapsed": false
   },
   "outputs": [
    {
     "name": "stdout",
     "output_type": "stream",
     "text": [
      "[[0. 0. 0. 0. 0. 1. 0. 0. 0. 0.]]\n",
      "Training set (55000, 784) (55000, 10)\n",
      "Validation set (5000, 784) (5000, 10)\n",
      "Test set (10000, 784) (10000, 10)\n"
     ]
    }
   ],
   "source": [
    "print(mnist.validation.labels[:1])\n",
    "print('Training set', mnist.train.images.shape, mnist.train.labels.shape)\n",
    "print('Validation set', mnist.validation.images.shape, mnist.validation.labels.shape)\n",
    "print('Test set', mnist.test.images.shape, mnist.test.labels.shape)"
   ]
  },
  {
   "cell_type": "markdown",
   "metadata": {
    "collapsed": false
   },
   "source": [
    "## Graphical Reset/Define Layers of Neural Net"
   ]
  },
  {
   "cell_type": "code",
   "execution_count": 4,
   "metadata": {
    "collapsed": false
   },
   "outputs": [],
   "source": [
    "tf.reset_default_graph() #First step is to reset graph\n",
    "keep_prob = tf.placeholder(tf.float32) \n",
    "\n",
    "def hidden(data, in_dims, out_dims, name):\n",
    "    with tf.name_scope(name):\n",
    "        w = tf.Variable(tf.truncated_normal([in_dims, out_dims], stddev=0.01), name=\"W\")\n",
    "        b = tf.Variable(tf.zeros([out_dims]), name=\"B\")\n",
    "        out = tf.matmul(data, w) + b\n",
    "        act = tf.nn.relu(out)\n",
    "        return act        "
   ]
  },
  {
   "cell_type": "code",
   "execution_count": 5,
   "metadata": {
    "collapsed": true
   },
   "outputs": [],
   "source": [
    "def out_layer(data, in_dims, out_dims, name):\n",
    "    with tf.name_scope(name):\n",
    "        w = tf.Variable(tf.truncated_normal([in_dims, out_dims], stddev=0.01), name=\"W\")\n",
    "        b = tf.Variable(tf.zeros(out_dims))\n",
    "        out = tf.matmul(data, w) + b\n",
    "        return out"
   ]
  },
  {
   "cell_type": "markdown",
   "metadata": {},
   "source": [
    "## Define Hyperparameters"
   ]
  },
  {
   "cell_type": "code",
   "execution_count": 6,
   "metadata": {
    "collapsed": true
   },
   "outputs": [],
   "source": [
    "batch_size = 100\n",
    "num_of_epochs = 8\n",
    "image_size = 28\n",
    "num_labels = 10\n",
    "log_dir = '/notebooks/data/demo/'\n",
    "lr = 1e-2"
   ]
  },
  {
   "cell_type": "markdown",
   "metadata": {},
   "source": []
  },
  {
   "cell_type": "markdown",
   "metadata": {},
   "source": [
    "## Name the Run"
   ]
  },
  {
   "cell_type": "code",
   "execution_count": 7,
   "metadata": {
    "collapsed": false
   },
   "outputs": [],
   "source": [
    "run_name = 'PlzWork'"
   ]
  },
  {
   "cell_type": "markdown",
   "metadata": {},
   "source": [
    "## Input Defnition"
   ]
  },
  {
   "cell_type": "code",
   "execution_count": 8,
   "metadata": {
    "collapsed": false
   },
   "outputs": [
    {
     "data": {
      "text/plain": [
       "<tf.Tensor 'input:0' shape=() dtype=string>"
      ]
     },
     "execution_count": 8,
     "metadata": {},
     "output_type": "execute_result"
    }
   ],
   "source": [
    "x = tf.placeholder(tf.float32, shape=[None, image_size * image_size], name=\"X\")\n",
    "y_label = tf.placeholder(tf.float32, shape=[None, num_labels], name=\"Y_label\")\n",
    "\n",
    "image_shaped_input = tf.reshape(x, [-1, image_size, image_size, 1])\n",
    "tf.summary.image('input', image_shaped_input, 10)"
   ]
  },
  {
   "cell_type": "markdown",
   "metadata": {},
   "source": [
    "## Network Definition"
   ]
  },
  {
   "cell_type": "code",
   "execution_count": 9,
   "metadata": {
    "collapsed": false
   },
   "outputs": [],
   "source": [
    "hidden1 = hidden(x, image_size * image_size, 100, \"hidden1\")\n",
    "hidden2 = hidden(hidden1, 100, 150, \"hidden2\")\n",
    "hidden3 = hidden(hidden2, 150, 50, \"hidden3\")\n",
    "hidden4 = hidden(hidden3, 50, 25, \"hidden4\")\n",
    "drop = tf.nn.dropout(hidden4, keep_prob) # ADDING DROPOUT FOR ALL HIDDEN LAYERS\n",
    "pred = out_layer(drop, 25, num_labels, \"pred\")"
   ]
  },
  {
   "cell_type": "markdown",
   "metadata": {},
   "source": [
    "## Operation Definition"
   ]
  },
  {
   "cell_type": "code",
   "execution_count": 10,
   "metadata": {
    "collapsed": false
   },
   "outputs": [
    {
     "name": "stdout",
     "output_type": "stream",
     "text": [
      "WARNING:tensorflow:From <ipython-input-10-4492cc3a027d>:2: softmax_cross_entropy_with_logits (from tensorflow.python.ops.nn_ops) is deprecated and will be removed in a future version.\n",
      "Instructions for updating:\n",
      "\n",
      "Future major versions of TensorFlow will allow gradients to flow\n",
      "into the labels input on backprop by default.\n",
      "\n",
      "See @{tf.nn.softmax_cross_entropy_with_logits_v2}.\n",
      "\n"
     ]
    },
    {
     "data": {
      "text/plain": [
       "<tf.Tensor 'loss:0' shape=() dtype=string>"
      ]
     },
     "execution_count": 10,
     "metadata": {},
     "output_type": "execute_result"
    }
   ],
   "source": [
    "with tf.name_scope(\"xent\"):\n",
    "    cost = tf.reduce_mean(tf.nn.softmax_cross_entropy_with_logits(logits=pred, labels=y_label))\n",
    "with tf.name_scope(\"accuracy\"):\n",
    "    correct = tf.equal(tf.argmax(pred, 1), tf.argmax(y_label, 1))\n",
    "    accuracy = tf.reduce_mean(tf.cast(correct, tf.float32))\n",
    "tf.summary.scalar('acc', accuracy)\n",
    "tf.summary.scalar('loss', cost)"
   ]
  },
  {
   "cell_type": "code",
   "execution_count": 11,
   "metadata": {
    "collapsed": false
   },
   "outputs": [],
   "source": [
    "with tf.name_scope(\"train\"):\n",
    "    train_step = tf.train.AdamOptimizer(lr).minimize(cost)"
   ]
  },
  {
   "cell_type": "markdown",
   "metadata": {},
   "source": [
    "## Initialize Tensorflow Session"
   ]
  },
  {
   "cell_type": "code",
   "execution_count": 12,
   "metadata": {
    "collapsed": true
   },
   "outputs": [],
   "source": [
    "sess = tf.Session()\n",
    "sess.run(tf.global_variables_initializer())"
   ]
  },
  {
   "cell_type": "markdown",
   "metadata": {},
   "source": [
    "## Setup Tensorboard Parameters"
   ]
  },
  {
   "cell_type": "code",
   "execution_count": 13,
   "metadata": {
    "collapsed": true
   },
   "outputs": [],
   "source": [
    "summ = tf.summary.merge_all()\n",
    "train_writer = tf.summary.FileWriter(log_dir + 'train/' + run_name)\n",
    "train_writer.add_graph(sess.graph)"
   ]
  },
  {
   "cell_type": "markdown",
   "metadata": {},
   "source": [
    "## Train Model"
   ]
  },
  {
   "cell_type": "code",
   "execution_count": 14,
   "metadata": {
    "collapsed": false,
    "scrolled": true
   },
   "outputs": [
    {
     "name": "stdout",
     "output_type": "stream",
     "text": [
      "Epoch 1 completed out of 8 train_loss: 444.6522794365883 train_accuracy: 0.96\n",
      "Epoch 1 completed out of 8 valid_loss: 0.3211672 valid_accuracy: 0.9268\n",
      "Epoch 2 completed out of 8 train_loss: 157.63891879376024 train_accuracy: 0.93\n",
      "Epoch 2 completed out of 8 valid_loss: 0.20030864 valid_accuracy: 0.953\n",
      "Epoch 3 completed out of 8 train_loss: 122.67538427375257 train_accuracy: 0.96\n",
      "Epoch 3 completed out of 8 valid_loss: 0.18923081 valid_accuracy: 0.9568\n",
      "Epoch 4 completed out of 8 train_loss: 108.33007642999291 train_accuracy: 0.96\n",
      "Epoch 4 completed out of 8 valid_loss: 0.26075068 valid_accuracy: 0.9458\n",
      "Epoch 5 completed out of 8 train_loss: 100.36086403951049 train_accuracy: 0.99\n",
      "Epoch 5 completed out of 8 valid_loss: 0.1768498 valid_accuracy: 0.9628\n",
      "Epoch 6 completed out of 8 train_loss: 89.91976405819878 train_accuracy: 0.97\n",
      "Epoch 6 completed out of 8 valid_loss: 0.18138185 valid_accuracy: 0.9618\n",
      "Epoch 7 completed out of 8 train_loss: 88.0655701829819 train_accuracy: 0.99\n",
      "Epoch 7 completed out of 8 valid_loss: 0.17868945 valid_accuracy: 0.9646\n",
      "Epoch 8 completed out of 8 train_loss: 84.25236954400316 train_accuracy: 0.98\n",
      "Epoch 8 completed out of 8 valid_loss: 0.20582075 valid_accuracy: 0.96\n",
      "Test accuracy: 0.9606 Test loss: 0.20707569\n"
     ]
    }
   ],
   "source": [
    "total_train_indexes = len(mnist.train.images)\n",
    "for epoch in range(num_of_epochs):\n",
    "    i = 0\n",
    "    epoch_loss = 0\n",
    "    while i < total_train_indexes:\n",
    "        start = i\n",
    "        end = i + batch_size\n",
    "\n",
    "        if end > total_train_indexes:\n",
    "            end = total_train_indexes\n",
    "\n",
    "        batch_dataset = mnist.train.images[start:end]\n",
    "        batch_labels = mnist.train.labels[start:end]\n",
    "\n",
    "        input_dict = {x: batch_dataset, y_label: batch_labels,  keep_prob: 0.8} # Define dropout rate for training data 0.8\n",
    "        _, epoch_accuracy, loss, s = sess.run([train_step, accuracy, cost, summ], feed_dict=input_dict)\n",
    "        epoch_loss += loss\n",
    "        train_writer.add_summary(s, i + total_train_indexes * epoch)\n",
    "        i += batch_size\n",
    "    valid_accuracy, valid_loss = sess.run([accuracy, cost], \n",
    "                                                   feed_dict={x: mnist.validation.images, \n",
    "                                                              y_label: mnist.validation.labels, keep_prob: 1.0 })  #Validation dropout rate\n",
    "    \n",
    "    print('Epoch', epoch + 1, 'completed out of',num_of_epochs,'train_loss:',epoch_loss, 'train_accuracy:', epoch_accuracy)\n",
    "    print('Epoch', epoch + 1, 'completed out of',num_of_epochs,'valid_loss:',valid_loss, 'valid_accuracy:', valid_accuracy)\n",
    "    \n",
    "test_accuracy, test_loss = sess.run([accuracy, cost], feed_dict={x: mnist.test.images, y_label: mnist.test.labels, keep_prob: 1.0}) #Test dropout rate\n",
    "\n",
    "print(\"Test accuracy:\", test_accuracy, \"Test loss:\", test_loss)"
   ]
  }
 ],
 "metadata": {
  "kernelspec": {
   "display_name": "Python 3",
   "language": "python",
   "name": "python3"
  },
  "language_info": {
   "codemirror_mode": {
    "name": "ipython",
    "version": 3
   },
   "file_extension": ".py",
   "mimetype": "text/x-python",
   "name": "python",
   "nbconvert_exporter": "python",
   "pygments_lexer": "ipython3",
   "version": "3.6.0"
  }
 },
 "nbformat": 4,
 "nbformat_minor": 2
}
